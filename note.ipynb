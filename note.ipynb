{
 "cells": [
  {
   "attachments": {},
   "cell_type": "markdown",
   "metadata": {},
   "source": [
    "## 시간복잡도\n",
    "알고리즘에서 주어진 문제를 해결하기 위한 연산 횟수를 말한다.\n",
    "\n",
    "일반적으로 파이썬에선 2000만번 ~ 1억번의 연산을 1초 수행 시간으로 예측할 수 있다.\n",
    "\n",
    "### 시간복잡도 유형\n",
    "\n",
    "- 빅 오메가: 최선일 때 연산 횟수를 나타낸 표기법\n",
    "- 빅 세타: 보통일 때 연산 횟수를 나타낸 표기법\n",
    "- 빅 오: 최악일 때 연산 횟수를 나타낸 표기법\n",
    "\n",
    "여기서 빅 오를 많이 사용한다.\n",
    "\n",
    "예를 들어, 1부터 100까지 랜덤한 숫자를 뽑는데 원하는 숫자가 1이라고 해보자, 같은 수를 중복으로 뽑지 않는다면 최악이면 100번의 연산을, 최선이면 1번의 연산을 할 것이다.\n",
    "때문에 빅 오를 주로 쓰며 빅 오메가, 빅 세타는 거의 사용하지 않는다."
   ]
  },
  {
   "cell_type": "code",
   "execution_count": 10,
   "metadata": {},
   "outputs": [
    {
     "name": "stdout",
     "output_type": "stream",
     "text": [
      "65\n"
     ]
    }
   ],
   "source": [
    "# 시간 복잡도 예시\n",
    "import random\n",
    "findNumber = random.randrange(1, 101)\n",
    "\n",
    "for i in range(1, 101):\n",
    "    if i == findNumber:\n",
    "        print(i)\n",
    "        break"
   ]
  },
  {
   "attachments": {},
   "cell_type": "markdown",
   "metadata": {},
   "source": [
    "## 디버깅\n",
    "프로그램 상의 문법 오류나 논리 오류를 찾아 바로잡는 과정을 <b>디버깅</b>이라고 한다.\n",
    "디버깅은 가장 중요한 과정으로써 중단점을 설정하고 IDE의 디버깅 기능을 실행하면 된다.\n"
   ]
  }
 ],
 "metadata": {
  "kernelspec": {
   "display_name": "Python 3",
   "language": "python",
   "name": "python3"
  },
  "language_info": {
   "codemirror_mode": {
    "name": "ipython",
    "version": 3
   },
   "file_extension": ".py",
   "mimetype": "text/x-python",
   "name": "python",
   "nbconvert_exporter": "python",
   "pygments_lexer": "ipython3",
   "version": "3.11.1"
  },
  "orig_nbformat": 4,
  "vscode": {
   "interpreter": {
    "hash": "a3d8f53f1429d27b792a3789224562ddd32c1395c9a9cfbb17b3c19c3b9a493d"
   }
  }
 },
 "nbformat": 4,
 "nbformat_minor": 2
}
