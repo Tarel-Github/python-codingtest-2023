{
 "cells": [
  {
   "attachments": {},
   "cell_type": "markdown",
   "metadata": {},
   "source": [
    "## 정렬 고급"
   ]
  },
  {
   "cell_type": "code",
   "execution_count": 13,
   "metadata": {},
   "outputs": [
    {
     "ename": "TclError",
     "evalue": "pyimage13 get: coordinates out of range",
     "output_type": "error",
     "traceback": [
      "\u001b[1;31m---------------------------------------------------------------------------\u001b[0m",
      "\u001b[1;31mTclError\u001b[0m                                  Traceback (most recent call last)",
      "Cell \u001b[1;32mIn[13], line 13\u001b[0m\n\u001b[0;32m     11\u001b[0m \u001b[39mfor\u001b[39;00m i \u001b[39min\u001b[39;00m \u001b[39mrange\u001b[39m(h):\n\u001b[0;32m     12\u001b[0m     \u001b[39mfor\u001b[39;00m j \u001b[39min\u001b[39;00m \u001b[39mrange\u001b[39m(w):\n\u001b[1;32m---> 13\u001b[0m         r, g, b \u001b[39m=\u001b[39m photo\u001b[39m.\u001b[39;49mget(i, j)\n\u001b[0;32m     14\u001b[0m         value \u001b[39m=\u001b[39m (r \u001b[39m+\u001b[39m g \u001b[39m+\u001b[39m b) \u001b[39m/\u001b[39m\u001b[39m/\u001b[39m \u001b[39m3\u001b[39m\n\u001b[0;32m     15\u001b[0m         photoAry\u001b[39m.\u001b[39mappend(value)\n",
      "File \u001b[1;32mc:\\DEV\\Langs\\Python311\\Lib\\tkinter\\__init__.py:4173\u001b[0m, in \u001b[0;36mPhotoImage.get\u001b[1;34m(self, x, y)\u001b[0m\n\u001b[0;32m   4171\u001b[0m \u001b[39mdef\u001b[39;00m \u001b[39mget\u001b[39m(\u001b[39mself\u001b[39m, x, y):\n\u001b[0;32m   4172\u001b[0m \u001b[39m    \u001b[39m\u001b[39m\"\"\"Return the color (red, green, blue) of the pixel at X,Y.\"\"\"\u001b[39;00m\n\u001b[1;32m-> 4173\u001b[0m     \u001b[39mreturn\u001b[39;00m \u001b[39mself\u001b[39;49m\u001b[39m.\u001b[39;49mtk\u001b[39m.\u001b[39;49mcall(\u001b[39mself\u001b[39;49m\u001b[39m.\u001b[39;49mname, \u001b[39m'\u001b[39;49m\u001b[39mget\u001b[39;49m\u001b[39m'\u001b[39;49m, x, y)\n",
      "\u001b[1;31mTclError\u001b[0m: pyimage13 get: coordinates out of range"
     ]
    }
   ],
   "source": [
    "from tkinter import *\n",
    "\n",
    "window = Tk()\n",
    "window.geometry(\"600x600\")\n",
    "photo = PhotoImage(file='./cat.png')\n",
    "\n",
    "photoAry = []\n",
    "h = photo.height()\n",
    "w = photo.width()\n",
    "# 칼라이미지를 그레이 이미지로\n",
    "for i in range(h):\n",
    "    for j in range(w):\n",
    "        r, g, b = photo.get(i, j)\n",
    "        value = (r + g + b) // 3\n",
    "        photoAry.append(value)\n",
    "    \n",
    "# 그레이 이미지를 흑백 이미지로\n",
    "'''\n",
    "for i in range(len(photoAry)):\n",
    "    if photoAry[i] <= 127:\n",
    "        photoAry[i]=0\n",
    "    else:\n",
    "        photoAry[i]=255\n",
    "'''\n",
    "# pos = 0\n",
    "# for i in range(h):\n",
    "#     for j in range(w):\n",
    "#         r = g = b = photoAry[pos]\n",
    "#         pos += 1\n",
    "#         photo.put(\"#%02x%02x%02x\" %(r, g, b), (i, j))\n",
    "\n",
    "paper = Label(window, image=photo)\n",
    "paper.pack(expand = 1, anchor = CENTER)\n",
    "window.mainloop()"
   ]
  }
 ],
 "metadata": {
  "kernelspec": {
   "display_name": "Python 3",
   "language": "python",
   "name": "python3"
  },
  "language_info": {
   "codemirror_mode": {
    "name": "ipython",
    "version": 3
   },
   "file_extension": ".py",
   "mimetype": "text/x-python",
   "name": "python",
   "nbconvert_exporter": "python",
   "pygments_lexer": "ipython3",
   "version": "3.11.1"
  },
  "orig_nbformat": 4,
  "vscode": {
   "interpreter": {
    "hash": "a3d8f53f1429d27b792a3789224562ddd32c1395c9a9cfbb17b3c19c3b9a493d"
   }
  }
 },
 "nbformat": 4,
 "nbformat_minor": 2
}
