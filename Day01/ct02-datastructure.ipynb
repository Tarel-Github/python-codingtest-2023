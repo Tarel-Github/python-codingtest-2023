{
 "cells": [
  {
   "attachments": {},
   "cell_type": "markdown",
   "metadata": {},
   "source": [
    "## 배열과 리스트\n",
    "\n",
    "파이썬에서는 배열과 리스트를 구분하지 않지만 자료구조에서는 다르다.\n",
    "\n",
    "### 배열의 특징\n",
    "- 인덱스를 사용해 값에 바로 접근\n",
    "- 새로운 값을 삽입하거나 특정 인덱스 값을 삭제하기 어렵다.\n",
    "    - 삽입 또는 삭제시, 인덱스를 다 뜯어고쳐야한다.\n",
    "- 배열의 크기는 선언할 때 지정할 수 있으며, 한 번 선언하면 크기를 늘리거나 줄일 수 없다.\n",
    "- \n",
    "\n",
    "\n",
    "### 리스트의 특징\n",
    "- 인덱스가 없어서 값에 접근하려면 Head 포인터부터 순서대로 접근해야 한다. 즉 값에 접근하는 속도가 느리다.\n",
    "- 포인터로 연결되어 있으므로 중간 데이터 삽입 삭제가 빠르다.\n",
    "- 선언할 때 크기를 별도로 지정하지 않아도 된다. 즉 리스트의 크기는 가변이며 크기가 변하기 쉬운 데이터를 다룰 때 적절하다.\n",
    "- 포인터를 저장할 공간이 필요하므로 배열보다 구조가 복잡하다.\n",
    "\n",
    "## 숫자의 합 - 백준저지 11720"
   ]
  },
  {
   "cell_type": "code",
   "execution_count": 1,
   "metadata": {},
   "outputs": [
    {
     "name": "stdout",
     "output_type": "stream",
     "text": [
      "2\n"
     ]
    }
   ],
   "source": [
    "# 숫자의 합 - 백준저지 11720\n",
    "# 주의사항: input에 문자열 파라미터를 넣으면 틀린 문제로 간주한다.\n",
    "n = int(input())\n",
    "numbers = list(input())\n",
    "sum = 0\n",
    "\n",
    "for i in numbers:\n",
    "    sum += int(i)\n",
    "\n",
    "print(sum)"
   ]
  },
  {
   "cell_type": "code",
   "execution_count": 4,
   "metadata": {},
   "outputs": [
    {
     "name": "stdout",
     "output_type": "stream",
     "text": [
      "[50.0, 100.0, 75.0]\n"
     ]
    }
   ],
   "source": [
    "# 숫자의 합 - 백준저지 1546\n",
    "\n",
    "sub = int(input())\n",
    "score = input().split(' ')\n",
    "maxScore = max(score)\n",
    "newScore = []\n",
    "ans = 0\n",
    "for i in range(len(score)):\n",
    "    newScore.append(int(score[i]) / int(maxScore) * 100)\n",
    "\n",
    "allScore = sum(newScore)\n",
    "ans = allScore / len(newScore)\n",
    "    \n",
    "\n",
    "print(ans)"
   ]
  }
 ],
 "metadata": {
  "kernelspec": {
   "display_name": "Python 3",
   "language": "python",
   "name": "python3"
  },
  "language_info": {
   "codemirror_mode": {
    "name": "ipython",
    "version": 3
   },
   "file_extension": ".py",
   "mimetype": "text/x-python",
   "name": "python",
   "nbconvert_exporter": "python",
   "pygments_lexer": "ipython3",
   "version": "3.11.1"
  },
  "orig_nbformat": 4,
  "vscode": {
   "interpreter": {
    "hash": "a3d8f53f1429d27b792a3789224562ddd32c1395c9a9cfbb17b3c19c3b9a493d"
   }
  }
 },
 "nbformat": 4,
 "nbformat_minor": 2
}
