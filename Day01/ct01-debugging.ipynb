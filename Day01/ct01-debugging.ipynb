{
 "cells": [
  {
   "attachments": {},
   "cell_type": "markdown",
   "metadata": {},
   "source": [
    "# 코딩테스트중 실수 4가지\n",
    "\n",
    "## 결함있는 코드"
   ]
  },
  {
   "cell_type": "code",
   "execution_count": null,
   "metadata": {},
   "outputs": [],
   "source": [
    "# 배열의 주어진 범위 합을 2로 나눈 몫\n",
    "import random\n",
    "testcase = int(input())\n",
    "answer = 0\n",
    "A = [0] * 100001 # 10만개 리스트\n",
    "\n",
    "for i in range(0, 10001): # 1만개만 1~100수를 채워넣기\n",
    "    A[i] = random.randrange(1, 101)\n",
    "\n",
    "for t in range(1, testcase + 1):\n",
    "    start, end = map(int, input().split())\n",
    "\n",
    "    for i in range(start, end + 1):\n",
    "        answer = answer + A[i]\n",
    "\n",
    "    print(f'{testcase} = {answer / 2}')\n"
   ]
  }
 ],
 "metadata": {
  "kernelspec": {
   "display_name": "Python 3",
   "language": "python",
   "name": "python3"
  },
  "language_info": {
   "name": "python",
   "version": "3.11.1 (tags/v3.11.1:a7a450f, Dec  6 2022, 19:58:39) [MSC v.1934 64 bit (AMD64)]"
  },
  "orig_nbformat": 4,
  "vscode": {
   "interpreter": {
    "hash": "a3d8f53f1429d27b792a3789224562ddd32c1395c9a9cfbb17b3c19c3b9a493d"
   }
  }
 },
 "nbformat": 4,
 "nbformat_minor": 2
}
