{
 "cells": [
  {
   "attachments": {},
   "cell_type": "markdown",
   "metadata": {},
   "source": [
    "## 1번 문제\n",
    "\n",
    "프로그래머스 Lev1. 카드 뭉치 "
   ]
  },
  {
   "cell_type": "code",
   "execution_count": 3,
   "metadata": {},
   "outputs": [
    {
     "name": "stdout",
     "output_type": "stream",
     "text": [
      "Yes\n",
      "No\n"
     ]
    }
   ],
   "source": [
    "def solution1(cards1, cards2, goal):\n",
    "    a, b, ans = 0, 0, 0\n",
    "    ary = []\n",
    "    for j in range(0, 10):\n",
    "        cards1.append('')\n",
    "        cards2.append('')\n",
    "    for i in goal:\n",
    "        if i == cards1[a]:\n",
    "            ary.append(cards1[a])\n",
    "            a += 1\n",
    "        elif i == cards2[b]:\n",
    "            ary.append(cards2[b])\n",
    "            b += 1\n",
    "        ans += 1\n",
    "    return 'Yes' if ary == goal else 'No'\n",
    "\n",
    "#================================================================\n",
    "#================================================================\n",
    "\n",
    "cards1 = [\"i\", \"drink\", \"water\"]\n",
    "cards2 = [\"want\", \"to\"]\n",
    "goal = [\"i\", \"want\", \"to\", \"drink\", \"water\"]\n",
    "\n",
    "print(solution1(cards1, cards2, goal)) # return Yes\n",
    "\n",
    "cards1 = [\"i\", \"water\", \"drink\"]\n",
    "cards2 = [\"want\", \"to\"]\n",
    "goal = [\"i\", \"want\", \"to\", \"drink\", \"water\"]\n",
    "\n",
    "print(solution1(cards1, cards2, goal)) # return No\n",
    "\n"
   ]
  },
  {
   "attachments": {},
   "cell_type": "markdown",
   "metadata": {},
   "source": [
    "## 2번 문제\n",
    "\n",
    "프로그래머스 Lev1. 체육복"
   ]
  },
  {
   "cell_type": "code",
   "execution_count": 4,
   "metadata": {},
   "outputs": [
    {
     "name": "stdout",
     "output_type": "stream",
     "text": [
      "5\n",
      "4\n",
      "2\n"
     ]
    }
   ],
   "source": [
    "def solution2(n, lost, reserve):\n",
    "    lost.sort()\n",
    "    reserve.sort()\n",
    "    answer = n - len(lost)\n",
    "    for i in range(0, len(lost)):\n",
    "        if lost[i] in reserve:\n",
    "            reserve.remove(lost[i])\n",
    "            lost[i] = 99\n",
    "            answer += 1\n",
    "    for i in range(0, len(lost)):\n",
    "        if lost[i]-1 in reserve:\n",
    "            reserve.remove(lost[i]-1)\n",
    "            lost[i] = 99\n",
    "            answer += 1    \n",
    "        elif lost[i]+1 in reserve:\n",
    "            reserve.remove(lost[i]+1)\n",
    "            lost[i] = 99\n",
    "            answer += 1\n",
    "    return answer\n",
    "\n",
    "#================================================================\n",
    "#================================================================\n",
    "\n",
    "n = 5\n",
    "lost = [2, 4]\n",
    "reserve = [1,3,5]\n",
    "\n",
    "print(solution2(n, lost, reserve)) # return 5\n",
    "\n",
    "\n",
    "n = 5\n",
    "lost = [2, 4]\n",
    "reserve = [3]\n",
    "\n",
    "print(solution2(n, lost, reserve)) # return 4\n",
    "\n",
    "\n",
    "n = 3\n",
    "lost = [3]\n",
    "reserve = [1]\n",
    "\n",
    "print(solution2(n, lost, reserve)) # return 2"
   ]
  }
 ],
 "metadata": {
  "kernelspec": {
   "display_name": "Python 3",
   "language": "python",
   "name": "python3"
  },
  "language_info": {
   "codemirror_mode": {
    "name": "ipython",
    "version": 3
   },
   "file_extension": ".py",
   "mimetype": "text/x-python",
   "name": "python",
   "nbconvert_exporter": "python",
   "pygments_lexer": "ipython3",
   "version": "3.11.1"
  },
  "orig_nbformat": 4,
  "vscode": {
   "interpreter": {
    "hash": "a3d8f53f1429d27b792a3789224562ddd32c1395c9a9cfbb17b3c19c3b9a493d"
   }
  }
 },
 "nbformat": 4,
 "nbformat_minor": 2
}
