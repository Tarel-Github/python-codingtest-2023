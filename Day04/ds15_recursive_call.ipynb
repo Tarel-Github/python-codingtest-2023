{
 "cells": [
  {
   "attachments": {},
   "cell_type": "markdown",
   "metadata": {},
   "source": [
    "## 재귀호출 (Recursive Call)"
   ]
  },
  {
   "cell_type": "code",
   "execution_count": 2,
   "metadata": {},
   "outputs": [],
   "source": [
    "def openBox():\n",
    "    print('종이상자를 엽니다. ')\n",
    "    openBox() # 자신을 다시 호출"
   ]
  },
  {
   "cell_type": "code",
   "execution_count": 14,
   "metadata": {},
   "outputs": [],
   "source": [
    "#openBox()"
   ]
  },
  {
   "cell_type": "code",
   "execution_count": 19,
   "metadata": {},
   "outputs": [],
   "source": [
    "count = 5\n",
    "\n",
    "def openBox():\n",
    "    global count\n",
    "    print('종이상자를 엽니다. ')\n",
    "    count -= 1\n",
    "    if count == 0:\n",
    "        print('상자에 반지를 넣는다.')\n",
    "        return\n",
    "    openBox() # 자신을 다시 호출\n",
    "    print('종이상자를 닫습니다.')\n",
    "\n"
   ]
  },
  {
   "cell_type": "code",
   "execution_count": 18,
   "metadata": {},
   "outputs": [
    {
     "name": "stdout",
     "output_type": "stream",
     "text": [
      "종이상자를 엽니다. \n",
      "종이상자를 엽니다. \n",
      "종이상자를 엽니다. \n",
      "종이상자를 엽니다. \n",
      "종이상자를 엽니다. \n",
      "상자에 반지를 넣는다.\n",
      "종이상자를 닫습니다.\n",
      "종이상자를 닫습니다.\n",
      "종이상자를 닫습니다.\n",
      "종이상자를 닫습니다.\n",
      "종이상자를 닫습니다.\n"
     ]
    }
   ],
   "source": [
    "openBox()"
   ]
  },
  {
   "attachments": {},
   "cell_type": "markdown",
   "metadata": {},
   "source": [
    "## 재귀호출 하지 않고 반복문으로 계산"
   ]
  },
  {
   "cell_type": "code",
   "execution_count": null,
   "metadata": {},
   "outputs": [],
   "source": [
    "sumValue = 0\n",
    "\n",
    "for n in range(10, 0, -1):\n",
    "    sumValue += n\n",
    "\n",
    "print('10+9+8+...+1 = ', sumValue)"
   ]
  },
  {
   "attachments": {},
   "cell_type": "markdown",
   "metadata": {},
   "source": [
    "### 재귀호출로 덧셈"
   ]
  },
  {
   "cell_type": "code",
   "execution_count": 17,
   "metadata": {},
   "outputs": [
    {
     "name": "stdout",
     "output_type": "stream",
     "text": [
      "6\n"
     ]
    }
   ],
   "source": [
    "def addNumber(num):\n",
    "    if num <= 1:\n",
    "        return 1\n",
    "    else:\n",
    "        return num + addNumber(num -1)\n",
    "    \n",
    "print(addNumber(3))"
   ]
  },
  {
   "attachments": {},
   "cell_type": "markdown",
   "metadata": {},
   "source": [
    "### 팩토리얼 반복문"
   ]
  },
  {
   "cell_type": "code",
   "execution_count": 21,
   "metadata": {},
   "outputs": [
    {
     "name": "stdout",
     "output_type": "stream",
     "text": [
      "10*9*8...*2*1 3628800\n"
     ]
    }
   ],
   "source": [
    "factValue = 1\n",
    "for n in range(10, 0, -1):\n",
    "    factValue *= n\n",
    "\n",
    "print('10*9*8...*2*1', factValue)"
   ]
  },
  {
   "attachments": {},
   "cell_type": "markdown",
   "metadata": {},
   "source": [
    "### 팩토리얼 재귀호출"
   ]
  },
  {
   "cell_type": "code",
   "execution_count": 32,
   "metadata": {},
   "outputs": [
    {
     "name": "stdout",
     "output_type": "stream",
     "text": [
      "10! = 3628800\n"
     ]
    }
   ],
   "source": [
    "def factorial(num):\n",
    "    if num <= 1:\n",
    "        return 1\n",
    "    else:\n",
    "        return num * factorial(num -1)\n",
    "\n",
    "print('10! =', factorial(10))"
   ]
  },
  {
   "attachments": {},
   "cell_type": "markdown",
   "metadata": {},
   "source": [
    "### 우주선 발사"
   ]
  },
  {
   "cell_type": "code",
   "execution_count": 1,
   "metadata": {},
   "outputs": [
    {
     "name": "stdout",
     "output_type": "stream",
     "text": [
      "10\n",
      "9\n",
      "8\n",
      "7\n",
      "6\n",
      "5\n",
      "4\n",
      "3\n",
      "2\n",
      "1\n",
      "우주선 발사!!\n"
     ]
    }
   ],
   "source": [
    "import time\n",
    "def countdown(n):\n",
    "    if n == 0:\n",
    "        print('우주선 발사!!')\n",
    "    else:\n",
    "        print(n)\n",
    "        time.sleep(1)\n",
    "        countdown(n - 1)\n",
    "\n",
    "countdown(10)"
   ]
  },
  {
   "cell_type": "code",
   "execution_count": 30,
   "metadata": {},
   "outputs": [
    {
     "name": "stdout",
     "output_type": "stream",
     "text": [
      "★\n",
      "★★\n",
      "★★★\n",
      "★★★★\n",
      "★★★★★\n"
     ]
    }
   ],
   "source": [
    "def printStar(n):\n",
    "    if n > 0:\n",
    "        printStar(n-1)\n",
    "        print('★' * n)\n",
    "\n",
    "printStar(5)\n"
   ]
  },
  {
   "attachments": {},
   "cell_type": "markdown",
   "metadata": {},
   "source": [
    "### 구구단 재귀호출"
   ]
  },
  {
   "cell_type": "code",
   "execution_count": 9,
   "metadata": {},
   "outputs": [
    {
     "name": "stdout",
     "output_type": "stream",
     "text": [
      "2단 시작! ------\n",
      "2 X 1 =  2 2 X 2 =  4 2 X 3 =  6 2 X 4 =  8 2 X 5 =  10 2 X 6 =  12 2 X 7 =  14 2 X 8 =  16 2 X 9 =  18 3단 시작! ------\n",
      "3 X 1 =  3 3 X 2 =  6 3 X 3 =  9 3 X 4 =  12 3 X 5 =  15 3 X 6 =  18 3 X 7 =  21 3 X 8 =  24 3 X 9 =  27 4단 시작! ------\n",
      "4 X 1 =  4 4 X 2 =  8 4 X 3 =  12 4 X 4 =  16 4 X 5 =  20 4 X 6 =  24 4 X 7 =  28 4 X 8 =  32 4 X 9 =  36 5단 시작! ------\n",
      "5 X 1 =  5 5 X 2 =  10 5 X 3 =  15 5 X 4 =  20 5 X 5 =  25 5 X 6 =  30 5 X 7 =  35 5 X 8 =  40 5 X 9 =  45 6단 시작! ------\n",
      "6 X 1 =  6 6 X 2 =  12 6 X 3 =  18 6 X 4 =  24 6 X 5 =  30 6 X 6 =  36 6 X 7 =  42 6 X 8 =  48 6 X 9 =  54 7단 시작! ------\n",
      "7 X 1 =  7 7 X 2 =  14 7 X 3 =  21 7 X 4 =  28 7 X 5 =  35 7 X 6 =  42 7 X 7 =  49 7 X 8 =  56 7 X 9 =  63 8단 시작! ------\n",
      "8 X 1 =  8 8 X 2 =  16 8 X 3 =  24 8 X 4 =  32 8 X 5 =  40 8 X 6 =  48 8 X 7 =  56 8 X 8 =  64 8 X 9 =  72 9단 시작! ------\n",
      "9 X 1 =  9 9 X 2 =  18 9 X 3 =  27 9 X 4 =  36 9 X 5 =  45 9 X 6 =  54 9 X 7 =  63 9 X 8 =  72 9 X 9 =  81 "
     ]
    }
   ],
   "source": [
    "def gugudan(dan, num):\n",
    "    print(f'{dan} X {num} = {dan * num: 2d}', end = ' ')\n",
    "    if num < 9:\n",
    "        gugudan(dan, num + 1)\n",
    "\n",
    "for dan in range(2,10):\n",
    "    print(f'{dan}단 시작! ------')\n",
    "    gugudan(dan, 1)\n"
   ]
  },
  {
   "attachments": {},
   "cell_type": "markdown",
   "metadata": {},
   "source": [
    "### N제곱"
   ]
  },
  {
   "cell_type": "code",
   "execution_count": 20,
   "metadata": {},
   "outputs": [
    {
     "name": "stdout",
     "output_type": "stream",
     "text": [
      "2^10\n",
      "  2 X 2^10\n",
      "   2 X 2^9\n",
      "    2 X 2^8\n",
      "     2 X 2^7\n",
      "      2 X 2^6\n",
      "       2 X 2^5\n",
      "        2 X 2^4\n",
      "         2 X 2^3\n",
      "          2 X 2^2\n",
      "           2 X 2^1\n",
      "답 --> 1024\n"
     ]
    }
   ],
   "source": [
    "tab = ''\n",
    "def pow(x, n):\n",
    "    global tab\n",
    "    tab += ' '\n",
    "    if n == 0:\n",
    "        return 1\n",
    "    print(tab, f'{x} X {x}^{n}')\n",
    "    return x * pow(x, n-1)\n",
    "\n",
    "print('2^10')\n",
    "print('답 -->', pow(2,10))"
   ]
  },
  {
   "attachments": {},
   "cell_type": "markdown",
   "metadata": {},
   "source": [
    "### 피보나치 수열"
   ]
  },
  {
   "cell_type": "code",
   "execution_count": 23,
   "metadata": {},
   "outputs": [
    {
     "name": "stdout",
     "output_type": "stream",
     "text": [
      "피보나치 수 --> 0 1 1 2 3 5 8 13 21 34 55 89 144 233 377 610 987 1597 2584 4181 6765 10946 17711 28657 46368 75025 121393 196418 317811 514229 832040 1346269 2178309 3524578 5702887 9227465 14930352 24157817 39088169 63245986 102334155 165580141 267914296 "
     ]
    }
   ],
   "source": [
    "def fibonaci(n):\n",
    "    if n == 0: return 0\n",
    "    elif n == 1: return 1\n",
    "    else:\n",
    "        return fibonaci(n-1) + fibonaci(n-2)\n",
    "\n",
    "print('피보나치 수 --> 0 1', end = ' ')\n",
    "for i in range(2, 21):\n",
    "    print(fibonaci(i), end = ' ')"
   ]
  },
  {
   "attachments": {},
   "cell_type": "markdown",
   "metadata": {},
   "source": [
    "### 회문 여부"
   ]
  },
  {
   "cell_type": "code",
   "execution_count": 25,
   "metadata": {},
   "outputs": [
    {
     "data": {
      "text/plain": [
       "'l'"
      ]
     },
     "execution_count": 25,
     "metadata": {},
     "output_type": "execute_result"
    }
   ],
   "source": [
    "a = 'Hello'\n",
    "\n",
    "a[-2]"
   ]
  },
  {
   "cell_type": "code",
   "execution_count": 30,
   "metadata": {},
   "outputs": [],
   "source": [
    "def palindrome(pStr):\n",
    "    if len(pStr) <= 1:\n",
    "        return True\n",
    "    if pStr[0] != pStr[-1]:\n",
    "        return False\n",
    "    else:\n",
    "        return palindrome(pStr[1:len(pStr)-1])"
   ]
  },
  {
   "cell_type": "code",
   "execution_count": 31,
   "metadata": {},
   "outputs": [],
   "source": [
    "strAry = ['reaver','kayak','Borrow or rob', '주유소의 소유주',\n",
    "          '야 너 이번 주 주번이 너야', '살금 살금 살']\n"
   ]
  },
  {
   "cell_type": "code",
   "execution_count": 32,
   "metadata": {},
   "outputs": [
    {
     "name": "stdout",
     "output_type": "stream",
     "text": [
      "reaver --> 안이오\n",
      "kayak --> 회문입니다!\n",
      "Borrow or rob --> 회문입니다!\n",
      "주유소의 소유주 --> 회문입니다!\n",
      "야 너 이번 주 주번이 너야 --> 회문입니다!\n",
      "살금 살금 살 --> 회문입니다!\n"
     ]
    }
   ],
   "source": [
    "for testStr in strAry:\n",
    "    print(testStr, end = ' --> ')\n",
    "    testStr = testStr.lower().replace(' ','')\n",
    "    if palindrome(testStr) == True:\n",
    "        print('회문입니다!')\n",
    "    else:\n",
    "        print('안이오')"
   ]
  }
 ],
 "metadata": {
  "kernelspec": {
   "display_name": "Python 3",
   "language": "python",
   "name": "python3"
  },
  "language_info": {
   "codemirror_mode": {
    "name": "ipython",
    "version": 3
   },
   "file_extension": ".py",
   "mimetype": "text/x-python",
   "name": "python",
   "nbconvert_exporter": "python",
   "pygments_lexer": "ipython3",
   "version": "3.11.1"
  },
  "orig_nbformat": 4,
  "vscode": {
   "interpreter": {
    "hash": "a3d8f53f1429d27b792a3789224562ddd32c1395c9a9cfbb17b3c19c3b9a493d"
   }
  }
 },
 "nbformat": 4,
 "nbformat_minor": 2
}
